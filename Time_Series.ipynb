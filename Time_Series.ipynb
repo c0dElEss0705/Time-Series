{
 "cells": [
  {
   "cell_type": "code",
   "execution_count": null,
   "id": "035af7cb-388a-4e09-83c1-4c78ba35492f",
   "metadata": {},
   "outputs": [],
   "source": [
    "pip install yfinance fastdtw numpy scikit-learn"
   ]
  },
  {
   "cell_type": "code",
   "execution_count": null,
   "id": "58f698c3-a63f-4474-9729-db62cb3785e7",
   "metadata": {},
   "outputs": [],
   "source": [
    "import yfinance as yf\n",
    "import numpy as np\n",
    "from fastdtw import fastdtw\n",
    "from sklearn.model_selection import KFold, GridSearchCV\n",
    "from sklearn.neighbors import KNeighborsClassifier\n",
    "\n",
    "def dtw_distance(stock_1, stock_2):\n",
    "\n",
    "   # Computes the Dynamic Time Warping (DTW) distance between two stock time series.\n",
    "   # The lower the result, the more similar the two stock patterns are.\n",
    "\n",
    "   distance, _ = fastdtw(stock_1, stock_2)\n",
    "   return float(distance)\n",
    "\n",
    "#  To download Stock Data\n",
    "# We'll use yfinance to get the closing prices of various companies for a specified time period.\n",
    "tickers = [\"AAPL\", \"MSFT\", \"AMZN\", \"META\", \"GOOGL\", \"GOOG\", \"TSLA\", \"JPM\", \"JNJ\", \"V\", \"PG\", \"NVDA\", \"HD\", \"UNH\", \"PYPL\"]\n",
    "start_date = \"2022-01-01\"\n",
    "end_date = \"2023-01-01\"\n",
    "\n",
    "data = {ticker: yf.download(ticker, start=start_date, end=end_date)['Close'].tolist() for ticker in tickers}\n",
    "\n",
    "# Prepare data for our model\n",
    "X = [data[ticker] for ticker in tickers]\n",
    "y = tickers\n",
    "\n",
    "#  Calculate Similarities Between Stocks\n",
    "# We're going to compare every stock's price patterns with every other stock's patterns.\n",
    "dtw_matrix = np.zeros((len(tickers), len(tickers)))\n",
    "for i in range(len(tickers)):\n",
    "   for j in range(len(tickers)):\n",
    "       dtw_matrix[i, j] = dtw_distance(X[i], X[j])\n",
    "\n",
    "print(\"\\nHow Similar Are These Stocks?\")\n",
    "print(dtw_matrix)\n",
    "\n",
    "#  Find Most Similar Stocks\n",
    "# Using K-nearest neighbors with our DTW distance metric to find the most similar stocks.\n",
    "knn = KNeighborsClassifier(metric=dtw_distance)\n",
    "\n",
    "# Using KFold to split our data into parts (or \"folds\") for cross-validation.\n",
    "cv = KFold(n_splits=3, shuffle=True, random_state=42)\n",
    "\n",
    "# Let's try different values for K (number of neighbors) to find the best one.\n",
    "param_grid = {'n_neighbors': list(range(1, min(len(tickers)-1, 10)))}\n",
    "\n",
    "# GridSearchCV will try out each value of K and tell us the best one.\n",
    "grid_search = GridSearchCV(knn, param_grid, cv=cv)\n",
    "grid_search.fit(X, y)\n",
    "\n",
    "print(f\"\\nBest Number of Neighbors: {grid_search.best_params_['n_neighbors']}\")\n",
    "\n",
    "# For each stock, let's find out which other stock is most similar to it.\n",
    "distances, neighbors_idx = grid_search.best_estimator_.kneighbors(X, 2)\n",
    "for i, ticker in enumerate(tickers):\n",
    "   print(f\"\\n{ticker}'s closest neighbour is {tickers[neighbors_idx[i][1]]} with a similarity score of {distances[i][1]}.\")\n",
    "\n"
   ]
  },
  {
   "cell_type": "code",
   "execution_count": null,
   "id": "fcbd94be-3e5a-4202-a4df-0dd57a877a28",
   "metadata": {},
   "outputs": [],
   "source": []
  }
 ],
 "metadata": {
  "kernelspec": {
   "display_name": "Python 3 (ipykernel)",
   "language": "python",
   "name": "python3"
  },
  "language_info": {
   "codemirror_mode": {
    "name": "ipython",
    "version": 3
   },
   "file_extension": ".py",
   "mimetype": "text/x-python",
   "name": "python",
   "nbconvert_exporter": "python",
   "pygments_lexer": "ipython3",
   "version": "3.11.4"
  }
 },
 "nbformat": 4,
 "nbformat_minor": 5
}
